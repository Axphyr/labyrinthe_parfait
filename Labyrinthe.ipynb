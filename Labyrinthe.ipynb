{
  "metadata": {
    "kernelspec": {
      "name": "python",
      "display_name": "Python (Pyodide)",
      "language": "python"
    },
    "language_info": {
      "codemirror_mode": {
        "name": "python",
        "version": 3
      },
      "file_extension": ".py",
      "mimetype": "text/x-python",
      "name": "python",
      "nbconvert_exporter": "python",
      "pygments_lexer": "ipython3",
      "version": "3.8"
    }
  },
  "nbformat_minor": 5,
  "nbformat": 4,
  "cells": [
    {
      "cell_type": "markdown",
      "source": "# <center> Création et résolution de labyrinthes</center>",
      "metadata": {},
      "id": "fa524630"
    },
    {
      "cell_type": "markdown",
      "source": "**<center>JONUZI Arbër & PAYRAUDEAU Alix</center>**",
      "metadata": {},
      "id": "0c014a84"
    },
    {
      "cell_type": "markdown",
      "source": "## 1) Introduction",
      "metadata": {},
      "id": "bffdc698"
    },
    {
      "cell_type": "markdown",
      "source": "### 1.2. Grille",
      "metadata": {},
      "id": "af24aced"
    },
    {
      "cell_type": "code",
      "source": "########\nclass UneCellule:\n    \"\"\"\n    définition d'une cellule\n    \"\"\"\n    \n    def __init__(self,x, y):\n        \"\"\"\n        créer une cellule positionnée en (x=ligne, y=colonne)\n        \"\"\"\n        \n        self.x = x\n        self.y = y\n        #les murs sont dans l'ordre : N, S, E, O. \n        #la valeur est à True si un mur est présent, False sinon\n        self.murs = {'N': True, 'S': True, 'E': True, 'O': True}\n\n########       \nclass Grille :\n    \"\"\"\n    construction d'une grille de cellules\n    \"\"\"\n    \n    def __init__(self, nl, nc):\n        \"\"\"\n        construction d'une grille de dimension (nl, nc)\n        \"\"\"\n        \n        self.nl = nl\n        self.nc = nc\n        self.cadrillage = []\n        for i in range(nl):\n            GrilleLigne=[]\n            for j in range(nc):\n                GrilleLigne.append(UneCellule(i,j))\n            self.cadrillage.append(GrilleLigne)\n        \n        \n    def cellule(self, x, y):\n        \"\"\"\n        retourne la cellule de la grille de position (x=ligne, y=colonne)\n        \"\"\"\n        \n        return self.cadrillage[x][y]\n    \n    def __str__(self):\n        \"\"\"\n        retourne une chaine de caractères représentant le labyrinthe\n        pour les cellules touchant le bord gauche ou le bord du haut de la grille, les 4 murs sont représentés.\n        pour les autres, seuls les murs Est et Sud sont représentés\n        \"\"\"\n        \n        laby_lignes = []\n        laby_l = ['+']\n        for y in range(self.nc):\n            if self.cadrillage[0][y].murs['N']:\n                laby_l.append('---+')\n            else :\n                laby_l.append('   +')\n        laby_lignes.append(''.join(laby_l))\n                              \n              \n        for x in range(0,self.nl):\n            if self.cadrillage[x][0].murs['O'] :\n                laby_l = ['|']\n            else :\n                laby_l = [' ']\n            for y in range(self.nc):\n                if self.cadrillage[x][y].murs['E']:\n                    laby_l.append('   |')\n                else:\n                    laby_l.append('    ')\n            laby_lignes.append(''.join(laby_l))\n            laby_l = ['+']\n            for y in range(self.nc):\n                if self.cadrillage[x][y].murs['S']:\n                    laby_l.append('---+')\n                else:\n                    laby_l.append('   +')\n            laby_lignes.append(''.join(laby_l))\n        \n        #laby_lignes.append('\\n')\n        return '\\n'.join(laby_lignes)",
      "metadata": {
        "trusted": true
      },
      "execution_count": 1,
      "outputs": [],
      "id": "833aa063"
    },
    {
      "cell_type": "markdown",
      "source": "### 1.3. Utilisation des classes",
      "metadata": {},
      "id": "411af1ca"
    },
    {
      "cell_type": "code",
      "source": "grilleTest = Grille(4,6)\nprint(grilleTest)\n# Accès aux dimensions de la grille\nprint(grilleTest.nl, grilleTest.nc)\n# Accès à une cellule de la grille\ncell =grilleTest.cellule(2,3)\n# Accès à la position d'une cellule (sous forme (ligne, colonne))\nprint(cell.x, cell.y)\n# Accès aux murs d'une cellule\ncell.murs\n# Accès au mur Est d'une cellule\ncell.murs['E']",
      "metadata": {
        "trusted": true
      },
      "execution_count": 2,
      "outputs": [
        {
          "name": "stdout",
          "text": "+---+---+---+---+---+---+\n|   |   |   |   |   |   |\n+---+---+---+---+---+---+\n|   |   |   |   |   |   |\n+---+---+---+---+---+---+\n|   |   |   |   |   |   |\n+---+---+---+---+---+---+\n|   |   |   |   |   |   |\n+---+---+---+---+---+---+\n4 6\n2 3\n",
          "output_type": "stream"
        },
        {
          "execution_count": 2,
          "output_type": "execute_result",
          "data": {
            "text/plain": "True"
          },
          "metadata": {}
        }
      ],
      "id": "97c3eb91"
    },
    {
      "cell_type": "code",
      "source": "# Détruisons le mur Est de la cellule 'cell' positionnée en (2,3)\ncell.murs['E']=False\nprint(grilleTest)",
      "metadata": {
        "trusted": true
      },
      "execution_count": 3,
      "outputs": [
        {
          "name": "stdout",
          "text": "+---+---+---+---+---+---+\n|   |   |   |   |   |   |\n+---+---+---+---+---+---+\n|   |   |   |   |   |   |\n+---+---+---+---+---+---+\n|   |   |   |       |   |\n+---+---+---+---+---+---+\n|   |   |   |   |   |   |\n+---+---+---+---+---+---+\n",
          "output_type": "stream"
        }
      ],
      "id": "b31775c1"
    },
    {
      "cell_type": "code",
      "source": "grilleTest.cellule(2,4).murs['O']",
      "metadata": {
        "trusted": true
      },
      "execution_count": 4,
      "outputs": [
        {
          "execution_count": 4,
          "output_type": "execute_result",
          "data": {
            "text/plain": "True"
          },
          "metadata": {}
        }
      ],
      "id": "fe197c91"
    },
    {
      "cell_type": "code",
      "source": "grilleTest.cellule(2,3).murs['E']=True\ngrilleTest.cellule(2,4).murs['O']=False\nprint(grilleTest)\n# Est et Sud d'une cellule sont traçés",
      "metadata": {
        "trusted": true
      },
      "execution_count": 5,
      "outputs": [
        {
          "name": "stdout",
          "text": "+---+---+---+---+---+---+\n|   |   |   |   |   |   |\n+---+---+---+---+---+---+\n|   |   |   |   |   |   |\n+---+---+---+---+---+---+\n|   |   |   |   |   |   |\n+---+---+---+---+---+---+\n|   |   |   |   |   |   |\n+---+---+---+---+---+---+\n",
          "output_type": "stream"
        }
      ],
      "id": "a8eaafca"
    },
    {
      "cell_type": "code",
      "source": "# casser le mur Nord de (2,3) passera inaperçu\ngrilleTest = Grille(4,6)\ngrilleTest.cellule(2,3).murs['N']=False\nprint(grilleTest)",
      "metadata": {
        "trusted": true
      },
      "execution_count": 6,
      "outputs": [
        {
          "name": "stdout",
          "text": "+---+---+---+---+---+---+\n|   |   |   |   |   |   |\n+---+---+---+---+---+---+\n|   |   |   |   |   |   |\n+---+---+---+---+---+---+\n|   |   |   |   |   |   |\n+---+---+---+---+---+---+\n|   |   |   |   |   |   |\n+---+---+---+---+---+---+\n",
          "output_type": "stream"
        }
      ],
      "id": "f47cbcad"
    },
    {
      "cell_type": "code",
      "source": "# si on veut voir disparaitre le mur, il faut détruire le mur Sud de (1,3)\ngrilleTest.cellule(1,3).murs['S']=False\nprint(grilleTest)",
      "metadata": {
        "trusted": true
      },
      "execution_count": 7,
      "outputs": [
        {
          "name": "stdout",
          "text": "+---+---+---+---+---+---+\n|   |   |   |   |   |   |\n+---+---+---+---+---+---+\n|   |   |   |   |   |   |\n+---+---+---+   +---+---+\n|   |   |   |   |   |   |\n+---+---+---+---+---+---+\n|   |   |   |   |   |   |\n+---+---+---+---+---+---+\n",
          "output_type": "stream"
        }
      ],
      "id": "5d55d56e"
    },
    {
      "cell_type": "markdown",
      "source": "### 1.4. Exercice effaceMur() : Premier exercice",
      "metadata": {},
      "id": "153eed75"
    },
    {
      "cell_type": "markdown",
      "source": "Afin de palier au problème évoqué plus haut, créer une fonction `effaceMur(grille, coord, orientation)` qui pour une grille grille :\n\n* efface le mur `orientation` (c-à-d 'N', 'S', 'E' ou 'O') de la cellule de position `coord`\n\n* efface aussi le mur correspondant de la cellule voisine.",
      "metadata": {},
      "id": "1fa82297"
    },
    {
      "cell_type": "code",
      "source": "def effaceMur(grille, coord : tuple, orientation) :\n    if (coord[0] == 0 and orientation == 'N') or (coord[1] == 0 and orientation == 'O') or (coord[0] == grille.nl-1 and orientation == 'S') or (coord[1] == grille.nc-1 and orientation == 'E'):\n        grille.cellule(coord[0],coord[1]).murs[orientation]=False\n    else :  \n        grille.cellule(coord[0],coord[1]).murs[orientation]=False\n        if orientation == 'N':\n            grille.cellule(coord[0]-1,coord[1]).murs['S']=False\n        if orientation == 'E':\n            grille.cellule(coord[0],coord[1]+1).murs['O']=False \n        if orientation == 'S':\n            grille.cellule(coord[0]+1,coord[1]).murs['N']=False \n        if orientation == 'O':\n            grille.cellule(coord[0],coord[1]-1).murs['E']=False",
      "metadata": {
        "trusted": true
      },
      "execution_count": 8,
      "outputs": [],
      "id": "c32076ce"
    },
    {
      "cell_type": "markdown",
      "source": "**Tests effaceMur() :**",
      "metadata": {},
      "id": "71c97e59"
    },
    {
      "cell_type": "code",
      "source": "grilleTest = Grille(5,7)\neffaceMur(grilleTest, (4,6),'E')\nprint(grilleTest)",
      "metadata": {
        "scrolled": true,
        "trusted": true
      },
      "execution_count": 9,
      "outputs": [
        {
          "name": "stdout",
          "text": "+---+---+---+---+---+---+---+\n|   |   |   |   |   |   |   |\n+---+---+---+---+---+---+---+\n|   |   |   |   |   |   |   |\n+---+---+---+---+---+---+---+\n|   |   |   |   |   |   |   |\n+---+---+---+---+---+---+---+\n|   |   |   |   |   |   |   |\n+---+---+---+---+---+---+---+\n|   |   |   |   |   |   |    \n+---+---+---+---+---+---+---+\n",
          "output_type": "stream"
        }
      ],
      "id": "78e08dc2"
    },
    {
      "cell_type": "code",
      "source": "grilleTest = Grille(4,6)\n\n# on efface le mur Ouest de la cellule (3,2)\neffaceMur(grilleTest,(3,2),'O')\n\n# affichage de la cellule modifiée\nprint('(3,2) :',grilleTest.cellule(3,2).murs)\n\n# affichage de la cellule 'voisine', ici la cellule (3,1)\nprint('(3,1) :',grilleTest.cellule(3,1).murs)\n\n# affichage de la grille\nprint(grilleTest)",
      "metadata": {
        "trusted": true
      },
      "execution_count": 10,
      "outputs": [
        {
          "name": "stdout",
          "text": "(3,2) : {'N': True, 'S': True, 'E': True, 'O': False}\n(3,1) : {'N': True, 'S': True, 'E': False, 'O': True}\n+---+---+---+---+---+---+\n|   |   |   |   |   |   |\n+---+---+---+---+---+---+\n|   |   |   |   |   |   |\n+---+---+---+---+---+---+\n|   |   |   |   |   |   |\n+---+---+---+---+---+---+\n|   |       |   |   |   |\n+---+---+---+---+---+---+\n",
          "output_type": "stream"
        }
      ],
      "id": "f00e84a9"
    },
    {
      "cell_type": "code",
      "source": "grilleTest = Grille(4,6)\n\n# on efface le mur Nord de la cellule (2,1)\neffaceMur(grilleTest,(2,1),'N')\n\n# affichage de la cellule modifiée\nprint('(2,1) :',grilleTest.cellule(2,1).murs)\n\n# affichage de la cellule 'voisine', ici la cellule (1,1)\nprint('(1,1) :',grilleTest.cellule(1,1).murs)\n\n# affichage de la grille\nprint(grilleTest)",
      "metadata": {
        "trusted": true
      },
      "execution_count": 11,
      "outputs": [
        {
          "name": "stdout",
          "text": "(2,1) : {'N': False, 'S': True, 'E': True, 'O': True}\n(1,1) : {'N': True, 'S': False, 'E': True, 'O': True}\n+---+---+---+---+---+---+\n|   |   |   |   |   |   |\n+---+---+---+---+---+---+\n|   |   |   |   |   |   |\n+---+   +---+---+---+---+\n|   |   |   |   |   |   |\n+---+---+---+---+---+---+\n|   |   |   |   |   |   |\n+---+---+---+---+---+---+\n",
          "output_type": "stream"
        }
      ],
      "id": "49c00462"
    },
    {
      "cell_type": "code",
      "source": "grilleTest = Grille(4,6)\n\n# on efface le mur Est de la cellule (0,5)\neffaceMur(grilleTest,(0,5),'E')\n\n# affichage de la cellule modifiée\nprint('(0,5) :',grilleTest.cellule(0,5).murs)\n\n# Attention : cette cellule n'a pas de cellule voisine située à sa droite, donc il ne doit pas y avoir de modifications supplémentaires !\n\n# affichage de la grille\nprint(grilleTest)",
      "metadata": {
        "trusted": true
      },
      "execution_count": 12,
      "outputs": [
        {
          "name": "stdout",
          "text": "(0,5) : {'N': True, 'S': True, 'E': False, 'O': True}\n+---+---+---+---+---+---+\n|   |   |   |   |   |    \n+---+---+---+---+---+---+\n|   |   |   |   |   |   |\n+---+---+---+---+---+---+\n|   |   |   |   |   |   |\n+---+---+---+---+---+---+\n|   |   |   |   |   |   |\n+---+---+---+---+---+---+\n",
          "output_type": "stream"
        }
      ],
      "id": "dadddd2c"
    },
    {
      "cell_type": "markdown",
      "source": "## 2) Construction de labyrinthes parfaits",
      "metadata": {},
      "id": "602d2236"
    },
    {
      "cell_type": "code",
      "source": "import random",
      "metadata": {
        "trusted": true
      },
      "execution_count": 13,
      "outputs": [],
      "id": "d8db1063"
    },
    {
      "cell_type": "markdown",
      "source": "### 2.1. Exercice arbreBinaire() :\n    \nConstruire une fonction `arbreBinaire(grille)` qui retourne un labyrinthe créé par l'algorithme suivant :\n\n* on part d'une grille où tous les murs existent.\n* on parcourt une à une toutes les cellules de la grille (en commençant en haut à gauche, c'est à dire en (0,0)).\n* pour chaque cellule ainsi parcourue, on détruit aléatoirement soit le mur Sud soit le mur Est (en utilisant la fonction `effaceMur`).\n* On fera attention que si une cellule est située sur le bord droit de la grille, c'est le mur Sud qui sera détruit.\n* De même, si une cellule est située sur le bord du bas de la grille, c'est forcément le mur Est qui sera détruit.\n* on ne détruira aucun mur de la cellule située tout en bas à droite.",
      "metadata": {},
      "id": "0a0c7552"
    },
    {
      "cell_type": "markdown",
      "source": "**Algorithme de l'arbre binaire :**",
      "metadata": {},
      "id": "138ef55f"
    },
    {
      "cell_type": "code",
      "source": "def arbreBinaire(grille) :\n    for i in range(grille.nl):\n        for j in range(grille.nc):\n            if j == grille.nc-1 :\n                sup = 'S'\n            elif i == grille.nl-1 :\n                sup = 'E'\n            elif i != grille.nl-1 and j != grille.nc-1:\n                sup =  random.choice(['S', 'E'])\n            if i != grille.nl-1 or j != grille.nc-1: \n                effaceMur(grille, (i,j), sup)\n    return grille",
      "metadata": {
        "trusted": true
      },
      "execution_count": 14,
      "outputs": [],
      "id": "9850de03"
    },
    {
      "cell_type": "markdown",
      "source": "**Tests de l'Algorithme de l'arbre binaire**",
      "metadata": {},
      "id": "75c200de"
    },
    {
      "cell_type": "code",
      "source": "ab = Grille(4,6)\nprint(arbreBinaire(ab))",
      "metadata": {
        "trusted": true
      },
      "execution_count": 15,
      "outputs": [
        {
          "name": "stdout",
          "text": "+---+---+---+---+---+---+\n|       |           |   |\n+---+   +---+---+   +   +\n|   |           |   |   |\n+   +---+---+   +   +   +\n|       |               |\n+---+   +---+---+---+   +\n|                       |\n+---+---+---+---+---+---+\n",
          "output_type": "stream"
        }
      ],
      "id": "bf7ea6bc"
    },
    {
      "cell_type": "markdown",
      "source": "**Qu'ont en commun tous ces labyrinthes ?** \n\nPeu importe le labyrinthe, celui-ci aura toutes ces cellules accessibles depuis l'intérieur.",
      "metadata": {},
      "id": "519e0ca5"
    },
    {
      "cell_type": "markdown",
      "source": "### 2.2. Exercice sidewinder() :\n\nConstruire une fonction sidewinder(grille) qui réalise l'algorithme suivant :\n\nLe labyrinthe est généré une ligne à la fois : pour chaque cellule de cette ligne, on décide aléatoirement s'il faut détruire le mur Est ou pas.\n\n* Si oui, alors on détruit le mur Est.\n* Sinon, on considère le passage horizontal qui vient d'être terminé, formé par la cellule actuelle et toutes les cellules à gauche qui ont creusé des passages menant à celle-ci. On choisit alors aléatoirement une cellule le long de ce passage et on détruit son mur Sud.",
      "metadata": {},
      "id": "22e6c92a"
    },
    {
      "cell_type": "markdown",
      "source": "**Algorithme sidewinde :**",
      "metadata": {},
      "id": "93f6bad1"
    },
    {
      "cell_type": "code",
      "source": "def sidewinder(grille) :\n    for i in range(grille.nl):\n        compt = 0\n        for j in range(grille.nc):\n            b = random.randint(0, 1)\n            if (i == grille.nl-1 and j != grille.nc-1):\n                effaceMur(grille, (i,j), 'E')\n            elif (j != grille.nc-1) and b == 0:\n                effaceMur(grille, (i,j), 'E')\n                compt += 1\n            elif (i != grille.nl-1):\n                effaceMur(grille, (i,random.randint(j-compt,j)), 'S')\n                compt = 0\n    return grille",
      "metadata": {
        "trusted": true
      },
      "execution_count": 16,
      "outputs": [],
      "id": "184ff37a"
    },
    {
      "cell_type": "markdown",
      "source": "**Tests de l'Algorithme sidewinde :**",
      "metadata": {},
      "id": "584c14dd"
    },
    {
      "cell_type": "code",
      "source": "SW = Grille(6,6)\nprint(sidewinder(SW))",
      "metadata": {
        "trusted": true
      },
      "execution_count": 17,
      "outputs": [
        {
          "name": "stdout",
          "text": "+---+---+---+---+---+---+\n|   |               |   |\n+   +---+---+   +---+   +\n|               |   |   |\n+---+---+---+   +   +   +\n|                   |   |\n+---+   +---+---+---+   +\n|       |       |       |\n+---+   +   +---+   +---+\n|           |   |   |   |\n+---+   +---+   +   +   +\n|                       |\n+---+---+---+---+---+---+\n",
          "output_type": "stream"
        }
      ],
      "id": "ecfc7768"
    },
    {
      "cell_type": "markdown",
      "source": "### 2.3. Exercice explorationE() :\n\n```\ndefinition de explorationE(grille)\n\nVisite = tableau 2D (ou matrice ...) de même taille que la grille.\nCe tableau nous servira à savoir si une cellule a déja été traitée ou non\n\nPile = une liste, vide pour l'instant\n\nOn choisit aléatoirement une cellule, sous forme d'un couple (ligne, colonne)\nOn la met dans Pile, et on indique dans le tableau Visite que cette cellule a été traitée.\n\ntant que Pile non vide\n  soit (i,j) le premier élément de Pile\n  on recherche les voisins non encore traités de (i,j)\n\n  si il y en a\n      soit (k,l) = un de ces voisins, choisi au hasard \n      on détruit le mur entre (k,l) et la cellule (i,j)\n      on indique dans Visite que (k,l) a été traitée\n      on ajoute (k,l) au début de Pile\n  sinon\n      on retire le premier élément de Pile\n\nretourner grille\n```",
      "metadata": {},
      "id": "3fde5e9f"
    },
    {
      "cell_type": "markdown",
      "source": "**Fonctions annexes :**",
      "metadata": {},
      "id": "cad45878"
    },
    {
      "cell_type": "markdown",
      "source": "&nbsp;&nbsp;&nbsp;&nbsp;&nbsp;&nbsp;**voisins() :**\n\nretourne la liste des voisins d'une cellule",
      "metadata": {},
      "id": "ef1d0986"
    },
    {
      "cell_type": "code",
      "source": "def voisins(grille, coord):\n    x=coord[0]\n    y=coord[1]\n    Voisins = [(x+1,y),(x-1,y),(x,y+1),(x,y-1)]\n    if y == 0:\n        del Voisins[3]\n    if y == grille.nc-1:\n        del Voisins[2]\n    if x == 0:\n        del Voisins[1]\n    if x == grille.nl-1:\n        del Voisins[0]\n    return Voisins",
      "metadata": {
        "trusted": true
      },
      "execution_count": 18,
      "outputs": [],
      "id": "e9f2171a"
    },
    {
      "cell_type": "markdown",
      "source": "&nbsp;&nbsp;&nbsp;&nbsp;&nbsp;&nbsp;**visiter() :**\n\nretourne le tableau 2D (ou matrice ...) de même taille que la grille avec que des `False`",
      "metadata": {},
      "id": "8064cc74"
    },
    {
      "cell_type": "code",
      "source": "def visiter(grille):\n    Visite = []\n    for i in range(grille.nl):\n        lst=[]\n        for j in range(grille.nc):\n            lst.append(False)\n        Visite.append(lst)\n    return Visite",
      "metadata": {
        "trusted": true
      },
      "execution_count": 19,
      "outputs": [],
      "id": "09c25791"
    },
    {
      "cell_type": "markdown",
      "source": "&nbsp;&nbsp;&nbsp;&nbsp;&nbsp;&nbsp;**murEntreCellules() :**\n\nretourne le mur entre deux cellules voisines",
      "metadata": {},
      "id": "36d89a0f"
    },
    {
      "cell_type": "code",
      "source": "def murEntreCellules(cellule, voisin) :\n    if cellule[0]-voisin[0]<0 :\n        mur = 'S'\n    if cellule[0]-voisin[0]>0 :\n        mur = 'N'\n    if cellule[1]-voisin[1]<0 :\n        mur = 'E'\n    if cellule[1]-voisin[1]>0 :\n        mur = 'O'\n    return mur",
      "metadata": {
        "trusted": true
      },
      "execution_count": 20,
      "outputs": [],
      "id": "579ea81d"
    },
    {
      "cell_type": "markdown",
      "source": "**Algorithme d'exploration exhaustive :**",
      "metadata": {},
      "id": "bd46ebd9"
    },
    {
      "cell_type": "code",
      "source": "def explorationE(grille) :\n    Visite = visiter(grille)\n    Pile = []\n    cellule = (random.randint(0,grille.nl-1), random.randint(0,grille.nc-1))\n    Pile.append(cellule)\n    Visite[cellule[0]][cellule[1]] = True\n    \n    while Pile != []:\n        cellule = Pile[0]\n        Voisins = voisins(grille,cellule)\n        \n        for i in range(len(Voisins)-1,-1,-1):\n            if Visite[Voisins[i][0]][Voisins[i][1]] == True:\n                del Voisins[i]\n                \n        if Voisins != [] :\n            randCell = Voisins[random.randint(0,len(Voisins)-1)]\n            mur = murEntreCellules(cellule, randCell)\n            effaceMur(grille, cellule, mur)\n            Visite[randCell[0]][randCell[1]] = True\n            Pile.insert(0,randCell)\n        else :\n            del Pile[0]\n            \n    return grille",
      "metadata": {
        "trusted": true
      },
      "execution_count": 21,
      "outputs": [],
      "id": "6a1121d1"
    },
    {
      "cell_type": "markdown",
      "source": "**Tests de l'Algorithme d'exploration exhaustive :**",
      "metadata": {},
      "id": "24854e0e"
    },
    {
      "cell_type": "code",
      "source": "grilleTest = Grille(4,6)\nexp = explorationE(grilleTest)\nprint(exp)",
      "metadata": {
        "trusted": true
      },
      "execution_count": 22,
      "outputs": [
        {
          "name": "stdout",
          "text": "+---+---+---+---+---+---+\n|   |       |           |\n+   +   +   +   +---+   +\n|       |   |       |   |\n+   +---+   +   +   +---+\n|   |   |   |   |       |\n+   +   +---+---+---+   +\n|                       |\n+---+---+---+---+---+---+\n",
          "output_type": "stream"
        }
      ],
      "id": "ae10a0e6"
    },
    {
      "cell_type": "markdown",
      "source": "### 2.4. Bonus",
      "metadata": {},
      "id": "43eeb9a4"
    },
    {
      "cell_type": "markdown",
      "source": "Proposer une fonction `fusion(grille)` qui construit un labyrinthe parfait sur ce principe : [lien](https://fr.wikipedia.org/wiki/Mod%C3%A9lisation_math%C3%A9matique_d%27un_labyrinthe#Fusion_al%C3%A9atoire_de_chemins)",
      "metadata": {},
      "id": "d981f0b0"
    },
    {
      "cell_type": "code",
      "source": "#retourne une matrice de meme taille que grille avec cases numérotées\ndef positionGrille(grille):\n    Pos = []\n    compt = 0\n    for i in range(grille.nl):\n        lst=[]\n        for j in range(grille.nc):\n            lst.append(compt)\n            compt+=1\n        Pos.append(lst)\n    return Pos",
      "metadata": {
        "trusted": true
      },
      "execution_count": 23,
      "outputs": [],
      "id": "8680ecbf"
    },
    {
      "cell_type": "code",
      "source": "def fusion(grille):\n    position = positionGrille(grille)\n    nbMurOuvert = 0\n    \n    while(nbMurOuvert<grille.nl*grille.nc-1):\n        \n        cellule = (random.randint(0,grille.nl-1), random.randint(0,grille.nc-1))\n        Voisins = voisins(grille,cellule)\n        \n        for i in range(len(Voisins)-1,-1,-1):\n            if position[Voisins[i][0]][Voisins[i][1]] == position[cellule[0]][cellule[1]]:\n                del Voisins[i]\n        \n        if Voisins != [] :\n            randCell = Voisins[random.randint(0,len(Voisins)-1)]\n            mur = murEntreCellules(cellule, randCell)\n            effaceMur(grille, cellule, mur)\n            nbMurOuvert+=1\n            num = position[randCell[0]][randCell[1]]\n            \n            for i in range(len(position)):\n                for j in range(len(position[0])): \n                    if position[i][j] == num:\n                        position[i][j] = position[cellule[0]][cellule[1]]\n                        \n    return grille            ",
      "metadata": {
        "trusted": true
      },
      "execution_count": 24,
      "outputs": [],
      "id": "dbc3ab5c"
    },
    {
      "cell_type": "code",
      "source": "grilleTestFus = Grille(7,10)\nfus = fusion(grilleTestFus)\nprint(fus)",
      "metadata": {
        "trusted": true
      },
      "execution_count": 25,
      "outputs": [
        {
          "name": "stdout",
          "text": "+---+---+---+---+---+---+---+---+---+---+\n|       |       |   |   |           |   |\n+   +---+---+   +   +   +   +   +---+   +\n|   |       |   |       |   |           |\n+   +---+   +   +---+   +---+   +---+   +\n|       |               |       |       |\n+---+   +   +---+---+   +---+   +---+   +\n|               |       |   |   |       |\n+---+   +---+---+   +   +   +   +---+   +\n|           |   |   |   |       |       |\n+   +   +   +   +   +---+   +---+   +---+\n|   |   |   |       |   |       |       |\n+---+---+   +---+---+   +   +---+---+   +\n|                                   |   |\n+---+---+---+---+---+---+---+---+---+---+\n",
          "output_type": "stream"
        }
      ],
      "id": "a51773c0"
    },
    {
      "cell_type": "markdown",
      "source": "## 3) Résolution d'un labyrinthe parfait",
      "metadata": {},
      "id": "8d4b9001"
    },
    {
      "cell_type": "markdown",
      "source": "### 3.1. Exercice attenantes() : Introduction",
      "metadata": {},
      "id": "25df4f03"
    },
    {
      "cell_type": "code",
      "source": "laby = explorationE(Grille(5,7))\neffaceMur(laby,(0,0),'O')\neffaceMur(laby,(4,6),'E')\nprint(laby)",
      "metadata": {
        "trusted": true
      },
      "execution_count": 26,
      "outputs": [
        {
          "name": "stdout",
          "text": "+---+---+---+---+---+---+---+\n    |       |               |\n+   +---+   +   +   +---+   +\n|       |       |   |       |\n+---+   +---+   +   +   +---+\n|   |       |   |   |   |   |\n+   +---+   +---+   +   +   +\n|           |       |       |\n+   +---+---+   +---+---+   +\n|               |            \n+---+---+---+---+---+---+---+\n",
          "output_type": "stream"
        }
      ],
      "id": "76477381"
    },
    {
      "cell_type": "markdown",
      "source": "Construire une fonction `attenantes(labyrinthe,coord)` qui retourne les cellules attenantes à la cellule de position `coord`.",
      "metadata": {},
      "id": "fbaaf125"
    },
    {
      "cell_type": "code",
      "source": "def attenantes(labyrinthe, coord):\n    lst = []\n    cell = labyrinthe.cellule(coord[0],coord[1])\n    murs = cell.murs\n    if murs['N'] == False:\n        nord = (coord[0]-1, coord[1])\n        if coord[0]-1 >= 0:\n            lst.append(nord)\n    if murs['S'] == False:\n        sud = (coord[0]+1, coord[1])\n        if coord[0]+1 >= 0:\n            lst.append(sud)\n    if murs['E'] == False:\n        est = (coord[0], coord[1]+1)\n        if coord[1]+1 <= labyrinthe.nc-1:\n            lst.append(est)\n    if murs['O'] == False:\n        ouest = (coord[0], coord[1]-1)\n        if coord[1]-1 >= 0:\n            lst.append(ouest)\n    return lst",
      "metadata": {
        "trusted": true
      },
      "execution_count": 27,
      "outputs": [],
      "id": "6e2d293e"
    },
    {
      "cell_type": "markdown",
      "source": "**Tests :**",
      "metadata": {},
      "id": "34e876be"
    },
    {
      "cell_type": "code",
      "source": "print(attenantes(laby,(1,3)))",
      "metadata": {
        "trusted": true
      },
      "execution_count": 28,
      "outputs": [
        {
          "name": "stdout",
          "text": "[(0, 3), (2, 3), (1, 2)]\n",
          "output_type": "stream"
        }
      ],
      "id": "aef1c722"
    },
    {
      "cell_type": "code",
      "source": "print(attenantes(laby,(1,1)))",
      "metadata": {
        "trusted": true
      },
      "execution_count": 29,
      "outputs": [
        {
          "name": "stdout",
          "text": "[(2, 1), (1, 0)]\n",
          "output_type": "stream"
        }
      ],
      "id": "82d7e9f0"
    },
    {
      "cell_type": "markdown",
      "source": "### 3.2. Exercice distance() : Calcul des distances depuis (0,0)",
      "metadata": {},
      "id": "f4c42d3b"
    },
    {
      "cell_type": "code",
      "source": "import numpy as np\nfrom math import inf",
      "metadata": {
        "trusted": true
      },
      "execution_count": 30,
      "outputs": [],
      "id": "929ccdf7"
    },
    {
      "cell_type": "markdown",
      "source": "Construire une fonction `distance(labyrinthe)` qui retourne la matrice D pour un `labyrinthe` donné",
      "metadata": {},
      "id": "252d64af"
    },
    {
      "cell_type": "code",
      "source": "def distance(labyrinthe):\n    D = np.zeros((labyrinthe.nl, labyrinthe.nc))\n    for i in range(len(D)):\n        for j in range(len(D[i])):\n            D[i][j] = inf\n    File = []\n    \n    D[0,0] = 0\n    File.append((0,0))\n    \n    while File != []:\n        cell = File[0]\n        Attenantes = attenantes(labyrinthe, cell)\n\n        for i in range(len(Attenantes)-1,-1,-1):\n            if D[Attenantes[i][0]][Attenantes[i][1]] != inf:\n                del Attenantes[i]\n                \n        if Attenantes != []:\n            for i in Attenantes:\n                File.append(i)\n                D[i[0]][i[1]] = D[cell[0], cell[1]] + 1\n        del File[0]\n    return D",
      "metadata": {
        "trusted": true
      },
      "execution_count": 31,
      "outputs": [],
      "id": "043b317a"
    },
    {
      "cell_type": "markdown",
      "source": "**Tests :**",
      "metadata": {},
      "id": "95178a57"
    },
    {
      "cell_type": "code",
      "source": "print(laby)",
      "metadata": {
        "trusted": true
      },
      "execution_count": 32,
      "outputs": [
        {
          "name": "stdout",
          "text": "+---+---+---+---+---+---+---+\n    |       |               |\n+   +---+   +   +   +---+   +\n|       |       |   |       |\n+---+   +---+   +   +   +---+\n|   |       |   |   |   |   |\n+   +---+   +---+   +   +   +\n|           |       |       |\n+   +---+---+   +---+---+   +\n|               |            \n+---+---+---+---+---+---+---+\n",
          "output_type": "stream"
        }
      ],
      "id": "75a727d1"
    },
    {
      "cell_type": "code",
      "source": "print(distance(laby))",
      "metadata": {
        "trusted": true
      },
      "execution_count": 33,
      "outputs": [
        {
          "name": "stdout",
          "text": "[[ 0. 21. 20. 17. 16. 17. 18.]\n [ 1.  2. 19. 18. 15. 20. 19.]\n [ 8.  3.  4. 19. 14. 21. 24.]\n [ 7.  6.  5. 12. 13. 22. 23.]\n [ 8.  9. 10. 11. 26. 25. 24.]]\n",
          "output_type": "stream"
        }
      ],
      "id": "8bfdcfd8"
    },
    {
      "cell_type": "markdown",
      "source": "### 3.3. Exercice resolution() :",
      "metadata": {},
      "id": "dc045c26"
    },
    {
      "cell_type": "markdown",
      "source": "Construire une fonction `resolution(labyrinthe)` qui retourne le chemin permettant de résoudre le labyrinthe.",
      "metadata": {},
      "id": "d639faef"
    },
    {
      "cell_type": "code",
      "source": "def resolution(labyrinthe):\n    dist = distance(labyrinthe)\n    derCase = (labyrinthe.nl-1, labyrinthe.nc-1)\n    \n    solution = []\n    solution.append(derCase)\n    caseNum = dist[solution[0][0]][solution[0][1]]\n    \n    while int(caseNum) != 0:\n        Voisins = voisins(labyrinthe, solution[0])\n        for i in range(len(Voisins)):\n            if dist[Voisins[i]] == caseNum -1:\n                solution.insert(0, Voisins[i])\n                caseNum = dist[Voisins[i]]\n    return solution",
      "metadata": {
        "trusted": true
      },
      "execution_count": 34,
      "outputs": [],
      "id": "cd9e596b"
    },
    {
      "cell_type": "markdown",
      "source": "**Tests :**",
      "metadata": {},
      "id": "81bafe8a"
    },
    {
      "cell_type": "code",
      "source": "print(laby,'\\n')\nprint(resolution(laby))",
      "metadata": {
        "scrolled": true,
        "trusted": true
      },
      "execution_count": 35,
      "outputs": [
        {
          "name": "stdout",
          "text": "+---+---+---+---+---+---+---+\n    |       |               |\n+   +---+   +   +   +---+   +\n|       |       |   |       |\n+---+   +---+   +   +   +---+\n|   |       |   |   |   |   |\n+   +---+   +---+   +   +   +\n|           |       |       |\n+   +---+---+   +---+---+   +\n|               |            \n+---+---+---+---+---+---+---+ \n\n[(0, 0), (1, 0), (1, 1), (2, 1), (2, 2), (3, 2), (3, 1), (3, 0), (4, 0), (4, 1), (4, 2), (4, 3), (3, 3), (3, 4), (2, 4), (1, 4), (0, 4), (0, 5), (0, 6), (1, 6), (1, 5), (2, 5), (3, 5), (3, 6), (4, 6)]\n",
          "output_type": "stream"
        }
      ],
      "id": "5709805e"
    }
  ]
}